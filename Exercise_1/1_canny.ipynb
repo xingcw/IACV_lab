{
 "cells": [
  {
   "cell_type": "markdown",
   "metadata": {},
   "source": [
    "# Canny Edge Detector\n",
    "\n",
    "Having seen how the Canny filter works in the 1-D case in the theoretical exercise, we now move onto the 2-D case. In 2-D, the gradient magnitude is a measure for the strength of an edge, while direction of the gradient vector gives edge orientation. Edge detection can be done by thresholding the gradient magnitude, though this generally results in thick contours which are poorly localized. To thin the contours into single-pixel-wide lines, one should use non-maximum suppression. Pixels in the contour are kept as edge pixels only if its gradient magnitude is greater than that of its two neighboring pixels in the direction orthogonal to the edge, i.e. where the gradient is a maximum."
   ]
  },
  {
   "cell_type": "code",
   "execution_count": null,
   "metadata": {
    "collapsed": true
   },
   "outputs": [],
   "source": [
    "import numpy as np\n",
    "from scipy.ndimage.filters import gaussian_filter,convolve\n",
    "import matplotlib.pyplot as plt\n",
    "from scipy import where\n",
    "import cv2\n",
    "%matplotlib inline"
   ]
  },
  {
   "cell_type": "code",
   "execution_count": null,
   "metadata": {
    "collapsed": true
   },
   "outputs": [],
   "source": [
    "### Read Image ###\n",
    "im=cv2.imread('/home/cvcourse/pics/zurlim.png', 0).astype('float')"
   ]
  },
  {
   "cell_type": "code",
   "execution_count": null,
   "metadata": {
    "collapsed": true
   },
   "outputs": [],
   "source": [
    "print(im.shape)\n",
    "plt.figure(figsize=(10,10))\n",
    "plt.imshow(im,cmap='gray')\n",
    "plt.show()"
   ]
  },
  {
   "cell_type": "markdown",
   "metadata": {},
   "source": [
    "## Gaussian Smooth Image"
   ]
  },
  {
   "cell_type": "code",
   "execution_count": null,
   "metadata": {
    "collapsed": true
   },
   "outputs": [],
   "source": [
    "####### Gaussian Smooth Image #######\n",
    "# TODO: Implement Gaussian Smooting\n",
    "# Useful functions: gaussian_filter\n",
    "\n",
    "#blurred_im = ...\n",
    "#print(blurred_im.shape)"
   ]
  },
  {
   "cell_type": "markdown",
   "metadata": {},
   "source": [
    "## Gradient Image: "
   ]
  },
  {
   "cell_type": "code",
   "execution_count": null,
   "metadata": {
    "collapsed": true
   },
   "outputs": [],
   "source": [
    "###### Gradients x and y (Sobel filters) ######\n",
    "# TODO: Implement Gradient along x and y\n",
    "# Useful functions: convolve\n",
    "\n",
    "#im_x = ... \n",
    "#im_y = ..."
   ]
  },
  {
   "cell_type": "markdown",
   "metadata": {},
   "source": [
    "## Orientation Map\n",
    "At each pixel, the orientation of an edge can be obtained from the direction of the gradient.\n",
    "Note that edge directions α and α + π are equivalent. The resulting directions can be coded as\n",
    "grey values."
   ]
  },
  {
   "cell_type": "code",
   "execution_count": null,
   "metadata": {
    "collapsed": true
   },
   "outputs": [],
   "source": [
    "###### gradient and direction ########\n",
    "# TODO: Implement Gradient Magnitude and Direction\n",
    "\n",
    "#gradient = ...\n",
    "#theta = ..."
   ]
  },
  {
   "cell_type": "markdown",
   "metadata": {},
   "source": [
    "## Edge image according to the threshold criteria\n",
    "Each pixel at which the gradient magnitude exceeds a given threshold is displayed."
   ]
  },
  {
   "cell_type": "code",
   "execution_count": null,
   "metadata": {
    "collapsed": true
   },
   "outputs": [],
   "source": [
    "thresh=30;\n",
    "# TODO: Implement Thresholding\n",
    "#thresholdEdges = ...\n",
    "\n",
    "#plt.figure(figsize=(10,10))\n",
    "#plt.title('Edge image after Threshold criteria')\n",
    "#plt.imshow(thresholdEdges,cmap='gray')\n",
    "#plt.show()"
   ]
  },
  {
   "cell_type": "markdown",
   "metadata": {},
   "source": [
    "## Non-Maximum-Suppression\n",
    "Each pixel which fulfills the threshold criterion and has a larger gradient magnitude than its adjacent pixels in the direction orthogonal to the edge is displayed."
   ]
  },
  {
   "cell_type": "code",
   "execution_count": null,
   "metadata": {
    "collapsed": true
   },
   "outputs": [],
   "source": [
    "# TODO: Implement Non-Maximum Suppression\n",
    "\n",
    "###### Convert to degree ######\n",
    "#theta = ...\n",
    "\n",
    "###### Quantize angles ######\n",
    "#"
   ]
  },
  {
   "cell_type": "code",
   "execution_count": null,
   "metadata": {
    "collapsed": true
   },
   "outputs": [],
   "source": [
    "###### Non-maximum suppression ########\n",
    "### ...\n",
    "### ...\n",
    "#edges= ..."
   ]
  },
  {
   "cell_type": "code",
   "execution_count": null,
   "metadata": {
    "collapsed": true
   },
   "outputs": [],
   "source": [
    "plt.figure(figsize=(7,7))\n",
    "plt.title('Edge image after Thresholding and NMS')\n",
    "plt.imshow(edges,cmap='gray')\n",
    "plt.show()"
   ]
  },
  {
   "cell_type": "code",
   "execution_count": null,
   "metadata": {
    "collapsed": true
   },
   "outputs": [],
   "source": [
    "# Plotting of results\n",
    "# No need to change it\n",
    "f, ax_arr = plt.subplots(1, 2, figsize=(18, 16))\n",
    "ax_arr[0].set_title(\"Input Image\")\n",
    "ax_arr[1].set_title(\"Canny Edge Detector\")\n",
    "ax_arr[0].imshow(im, cmap='gray')\n",
    "ax_arr[1].imshow(edges, cmap='gray')"
   ]
  },
  {
   "cell_type": "code",
   "execution_count": null,
   "metadata": {
    "collapsed": true
   },
   "outputs": [],
   "source": []
  }
 ],
 "metadata": {
  "kernelspec": {
   "display_name": "Python 3",
   "language": "python",
   "name": "python3"
  },
  "language_info": {
   "codemirror_mode": {
    "name": "ipython",
    "version": 3
   },
   "file_extension": ".py",
   "mimetype": "text/x-python",
   "name": "python",
   "nbconvert_exporter": "python",
   "pygments_lexer": "ipython3",
   "version": "3.7.9"
  }
 },
 "nbformat": 4,
 "nbformat_minor": 1
}
