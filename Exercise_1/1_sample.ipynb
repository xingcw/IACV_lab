{
 "cells": [
  {
   "cell_type": "markdown",
   "metadata": {},
   "source": [
    "# Spatial sampling"
   ]
  },
  {
   "cell_type": "markdown",
   "metadata": {},
   "source": [
    "Import required modules"
   ]
  },
  {
   "cell_type": "code",
   "execution_count": null,
   "metadata": {
    "collapsed": true
   },
   "outputs": [],
   "source": [
    "import cv2\n",
    "from scipy.ndimage.filters import gaussian_filter\n",
    "import matplotlib.pyplot as plt\n",
    "import matplotlib"
   ]
  },
  {
   "cell_type": "markdown",
   "metadata": {},
   "source": [
    "## Helper functions\n",
    "\n",
    "Read image from input file into a `numpy.ndarray` variable of two dimensions (grayscale) with 32-bit float entries."
   ]
  },
  {
   "cell_type": "code",
   "execution_count": null,
   "metadata": {
    "collapsed": true
   },
   "outputs": [],
   "source": [
    "def read_input_image(input_file_name):\n",
    "    \"\"\"\n",
    "    Read image from input file into a numpy.ndarray variable of two dimensions (grayscale) with 32-bit float entries.\n",
    "    \"\"\"\n",
    "\n",
    "    # Set the flag argument to 0 so that the output has only one channel.\n",
    "    return cv2.imread(input_file_name, 0).astype('float')"
   ]
  },
  {
   "cell_type": "markdown",
   "metadata": {},
   "source": [
    "---\n",
    "\n",
    "Save output image to a file."
   ]
  },
  {
   "cell_type": "code",
   "execution_count": null,
   "metadata": {
    "collapsed": true
   },
   "outputs": [],
   "source": [
    "def write_output_image_to_file(output_image, output_file_name):\n",
    "    \"\"\"\n",
    "    Save output image to a file.\n",
    "    \"\"\"\n",
    "\n",
    "    cv2.imwrite(output_file_name, output_image)\n",
    "    return"
   ]
  },
  {
   "cell_type": "markdown",
   "metadata": {},
   "source": [
    "---\n",
    "\n",
    "Ensure that the sub-sampling factor is not too large."
   ]
  },
  {
   "cell_type": "code",
   "execution_count": null,
   "metadata": {
    "collapsed": true
   },
   "outputs": [],
   "source": [
    "def check_size(input_image, factor):\n",
    "    \"\"\"\n",
    "    Check if the subsampling factor is too large.\n",
    "    Input parameters:\n",
    "        input_image: the input image\n",
    "        factor: the required sub-sampling factor\n",
    "    \"\"\"\n",
    "\n",
    "    condition1 = ((input_image.shape[0] // factor) == 0)\n",
    "    condition2 = ((input_image.shape[1] // factor) == 0)\n",
    "    \n",
    "    if condition1 or condition2:\n",
    "        print('Error! Subsampling rate is too large.')\n",
    "        return 0\n",
    "    \n",
    "    else:\n",
    "        print('Sub-sampling factor is permissible.')\n",
    "        return 1"
   ]
  },
  {
   "cell_type": "markdown",
   "metadata": {},
   "source": [
    "---\n",
    "\n",
    "Sub-sample the image"
   ]
  },
  {
   "cell_type": "code",
   "execution_count": null,
   "metadata": {
    "collapsed": true
   },
   "outputs": [],
   "source": [
    "def subsample_image(input_image, factor):\n",
    "    \"\"\"\n",
    "    Subsample the input image with the requested subsampling factor.\n",
    "    Input parameters:\n",
    "        input_image: the input image\n",
    "        factor: the required sub-sampling factor\n",
    "    Output: \n",
    "        the sub-sampled image\n",
    "    \"\"\"\n",
    "\n",
    "    # ************************************\n",
    "    # TODO\n",
    "    # ************************************\n",
    "    # Currently, the output image is just being set to the input image.\n",
    "    # Replace this with the appropriate sub-sampling code\n",
    "    # Hint: You may do this using a double for loop, but there is also a way to do this with one line of code!\n",
    "    # ************************************\n",
    "    output_image = input_image\n",
    "    \n",
    "    return output_image"
   ]
  },
  {
   "cell_type": "markdown",
   "metadata": {},
   "source": [
    "---\n",
    "\n",
    "Apply a gaussian blurring to the image"
   ]
  },
  {
   "cell_type": "code",
   "execution_count": null,
   "metadata": {
    "collapsed": true
   },
   "outputs": [],
   "source": [
    "def gaussian_filter_image(input_image, sigma):\n",
    "    \"\"\"\n",
    "    Apply a gaussian blurring to the image\n",
    "    Input parameters:\n",
    "        input_image: the input image\n",
    "        sigma: strength of the required gaussian blurring\n",
    "    Output:\n",
    "        gaussian blurred image\n",
    "    \"\"\"\n",
    "\n",
    "    # ************************************\n",
    "    # TODO\n",
    "    # ************************************\n",
    "    # Currently, the output image is just being set to the input image.\n",
    "    # Replace this with the appropriate code for smooth the image\n",
    "    # Hint: Look at the modules being imported in the first cell of the notebook.\n",
    "    # ************************************    \n",
    "    output_image = input_image\n",
    "    \n",
    "    return output_image"
   ]
  },
  {
   "cell_type": "markdown",
   "metadata": {},
   "source": [
    "---\n",
    "\n",
    "Print the size of the image"
   ]
  },
  {
   "cell_type": "code",
   "execution_count": null,
   "metadata": {
    "collapsed": true
   },
   "outputs": [],
   "source": [
    "def print_image_size(image,image_name):\n",
    "    \"\"\"\n",
    "    Print the size of the image\n",
    "    Input parameters:\n",
    "        image: the image whose size is required\n",
    "        image_name: string to indicate the image content\n",
    "    \"\"\"\n",
    "    \n",
    "    print('Size of {:s}: {:d}, {:d}.'.format(image_name, image.shape[0], image.shape[1]))"
   ]
  },
  {
   "cell_type": "markdown",
   "metadata": {},
   "source": [
    "---\n",
    "\n",
    "Display an image"
   ]
  },
  {
   "cell_type": "code",
   "execution_count": null,
   "metadata": {
    "collapsed": true
   },
   "outputs": [],
   "source": [
    "def display_image(image,title):\n",
    "    \"\"\"\n",
    "    Display an image\n",
    "    Input parameters:\n",
    "        image: the image to be displayed\n",
    "        title: title of the figure\n",
    "    \"\"\"\n",
    "\n",
    "    fig = matplotlib.pyplot.gcf()\n",
    "    DPI = fig.get_dpi()\n",
    "    plt.figure(figsize=(image.shape[0]/float(DPI),image.shape[1]/float(DPI)))\n",
    "    plt.imshow(image, cmap=plt.cm.gray)\n",
    "    plt.axis('off')\n",
    "    plt.title(title)\n",
    "    plt.show()"
   ]
  },
  {
   "cell_type": "markdown",
   "metadata": {},
   "source": [
    "## Main function"
   ]
  },
  {
   "cell_type": "code",
   "execution_count": null,
   "metadata": {
    "collapsed": true
   },
   "outputs": [],
   "source": [
    "def main_function(input_file, factor, sigma):\n",
    "    \"\"\"\n",
    "    Input parameters:\n",
    "        input_file: path to the input image\n",
    "        factor: sub-sampling factor\n",
    "        sigma: strength of the gaussian blurring\n",
    "    \"\"\"\n",
    "    \n",
    "    # Read the input image\n",
    "    I_input = read_input_image(input_file)\n",
    "\n",
    "    # display the input image\n",
    "    display_image(I_input, 'Input image')\n",
    "    \n",
    "    # Print the size of the input image\n",
    "    print_image_size(I_input, 'Input image')\n",
    "    \n",
    "    print('\\n==== ==== ==== ==== ==== ==== ==== ==== ==== ==== ==== ==== ====')\n",
    "    \n",
    "    # print the requested sub-sampling factor\n",
    "    print('Requested sub-sampling factor: {:d}.'.format(factor))\n",
    "\n",
    "    # check if the sub-sampling factor is permissible\n",
    "    if check_size(I_input, factor) == 0:\n",
    "        return -1\n",
    "    \n",
    "    print('\\n==== ==== ==== ==== ==== ==== ==== ==== ==== ==== ==== ==== ====')\n",
    "    \n",
    "    # if requested, blur the image using a gaussian filter\n",
    "    if (sigma != 0):\n",
    "        print('Applying a gaussian blur to the image.')\n",
    "        I_input = gaussian_filter_image(I_input, sigma)\n",
    "        display_image(I_input, 'Gaussian blurred image')\n",
    "    else:\n",
    "        print('Using the original image, without gaussian blurring.')\n",
    "        \n",
    "    print('\\n==== ==== ==== ==== ==== ==== ==== ==== ==== ==== ==== ==== ====')\n",
    "    \n",
    "    # Sub-sample the image\n",
    "    I_output = subsample_image(I_input, factor)\n",
    "\n",
    "    # display the sub-sampled image\n",
    "    display_image(I_output, 'Sub-sampled image')\n",
    "    \n",
    "    # Print the size of the subsampled image\n",
    "    print_image_size(I_output, 'Sub-sampled image')"
   ]
  },
  {
   "cell_type": "code",
   "execution_count": null,
   "metadata": {
    "collapsed": true
   },
   "outputs": [],
   "source": [
    "# Try playing around with\n",
    "# - different values of the sub-sampling factor\n",
    "# - different values of the strength of the blurring\n",
    "# - different images\n",
    "\n",
    "input_file = '/home/cvcourse/pics/carpet.png'\n",
    "factor = 2\n",
    "sigma = 0\n",
    "\n",
    "# Call the main_function\n",
    "main_function(input_file, factor, sigma)"
   ]
  },
  {
   "cell_type": "code",
   "execution_count": null,
   "metadata": {
    "collapsed": true
   },
   "outputs": [],
   "source": []
  }
 ],
 "metadata": {
  "kernelspec": {
   "display_name": "Python 3",
   "language": "python",
   "name": "python3"
  },
  "language_info": {
   "codemirror_mode": {
    "name": "ipython",
    "version": 3
   },
   "file_extension": ".py",
   "mimetype": "text/x-python",
   "name": "python",
   "nbconvert_exporter": "python",
   "pygments_lexer": "ipython3",
   "version": "3.7.9"
  }
 },
 "nbformat": 4,
 "nbformat_minor": 2
}
