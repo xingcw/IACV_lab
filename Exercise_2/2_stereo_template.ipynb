{
 "cells": [
  {
   "cell_type": "markdown",
   "metadata": {},
   "source": [
    "# Stereo Vision.\n"
   ]
  },
  {
   "cell_type": "markdown",
   "metadata": {},
   "source": [
    "### Import necessary modules\n",
    "\n",
    "The exercise requires cv2 (opencv), numpy, matplotlib, plotly. Plotly can be installed using the command \"pip install plotly\"."
   ]
  },
  {
   "cell_type": "code",
   "execution_count": null,
   "metadata": {
    "collapsed": true
   },
   "outputs": [],
   "source": [
    "from __future__ import print_function\n",
    "%matplotlib inline\n",
    "import cv2\n",
    "import numpy as np\n",
    "import argparse\n",
    "import time\n",
    "from matplotlib import pyplot as plt\n",
    "from mpl_toolkits.mplot3d import Axes3D\n",
    "import plotly\n",
    "import plotly.graph_objs as go"
   ]
  },
  {
   "cell_type": "markdown",
   "metadata": {},
   "source": [
    "### Set image paths and camera parameters\n",
    "\n",
    "Set the paths to input images and camera parameters"
   ]
  },
  {
   "cell_type": "code",
   "execution_count": null,
   "metadata": {
    "collapsed": true
   },
   "outputs": [],
   "source": [
    "# Set image paths\n",
    "left_image_path_tsukuba = '/home/cvcourse/pics/tsukuba_left.pgm'\n",
    "right_image_path_tsukuba = '/home/cvcourse/pics/tsukuba_right.pgm'\n",
    "\n",
    "left_image_path_cube = '/home/cvcourse/pics/cube_left.pgm'\n",
    "right_image_path_cube = '/home/cvcourse/pics/cube_right.pgm'\n",
    "\n",
    "# Distance between the two cameras in inches\n",
    "m_baseline = 1\n",
    "\n",
    "# Size of the image plane in inches (horizontal)\n",
    "m_aperture_x = 1.417\n",
    "\n",
    "# Size of the image plane in inches (vertical)\n",
    "m_aperture_y = 0.945\n",
    "\n",
    "# Focal length in inches\n",
    "m_focal_length = 1.378\n",
    "\n",
    "# Load Images\n",
    "left_tsukuba = cv2.imread(left_image_path_tsukuba, -1)\n",
    "right_tsukuba = cv2.imread(right_image_path_tsukuba, -1)\n",
    "\n",
    "if left_tsukuba is None or right_tsukuba is None:\n",
    "    raise Exception('Please make sure the tsukuba image paths are correct!')\n",
    "\n",
    "left_cube = cv2.imread(left_image_path_cube, -1)\n",
    "right_cube = cv2.imread(right_image_path_cube, -1)\n",
    "\n",
    "if left_cube is None or right_cube is None:\n",
    "    raise Exception('Please make sure the cube image paths are correct!')\n",
    "\n",
    "# Prepare camera parameter dict\n",
    "camera_parameters = {'baseline': m_baseline, 'focal_length': m_focal_length,\n",
    "                     'aperture_x': m_aperture_x, 'aperture_y': m_aperture_y}"
   ]
  },
  {
   "cell_type": "markdown",
   "metadata": {},
   "source": [
    "### Helper functions\n",
    "\n",
    "This function plots the computed normalized cross-correlation for a given column. You don't need to edit this cell."
   ]
  },
  {
   "cell_type": "code",
   "execution_count": null,
   "metadata": {
    "collapsed": true
   },
   "outputs": [],
   "source": [
    "def plot_correlation(gray_left, gray_right, corr, col_to_plot):\n",
    "    \"\"\" Plot the normalized cross-correlation for a given column. The column for which NCC is being plotted is marked\n",
    "    with a red line in the left image.\n",
    "\n",
    "    Args:\n",
    "        gray_left (np.array of shape (num_rows, num_cols)): left grayscale image\n",
    "        gray_right (np.array of shape (num_rows, num_cols)): right grayscale image\n",
    "        corr (np.array of shape (num_rows - 2*mask_halfwidth, num_cols - 2*mask_halfwidth, \n",
    "                                 num_cols - 2*mask_halfwidth): Computed normalized\n",
    "            cross-correlation (NCC) between patches in the two images.\n",
    "        col_to_plot: the column in the left image for which to plot the NCC\n",
    "    \"\"\"\n",
    "\n",
    "    # Pad the slice so that it's size is same as the images for easier comparison.\n",
    "    pad_rows = int((gray_left.shape[0] - corr.shape[0]) / 2)\n",
    "    pad_cols = int((gray_left.shape[1] - corr.shape[1]) / 2)\n",
    "    corr = np.pad(corr, ((pad_rows, pad_rows), (pad_cols, pad_cols), (pad_cols, pad_cols)), 'constant',\n",
    "                  constant_values=0)\n",
    "\n",
    "    corr_slice = corr[:, col_to_plot, :]\n",
    "\n",
    "    # Draw line in the left image to denote the column being visualized\n",
    "    gray_left = np.dstack([gray_left, gray_left, gray_left])\n",
    "    gray_left[:, col_to_plot, 0] = 255\n",
    "    gray_left[:, col_to_plot, 1] = 0\n",
    "    gray_left[:, col_to_plot, 2] = 0\n",
    "\n",
    "    plt.ion()\n",
    "    f, axes_array = plt.subplots(1, 3, figsize=(18, 16))\n",
    "    axes_array[0].set_title('Left camera image', fontsize=12)\n",
    "    axes_array[0].imshow(gray_left, cmap=plt.cm.gray)\n",
    "\n",
    "    axes_array[0].tick_params(bottom='off', labelbottom='off', left='off', labelleft='off')\n",
    "    axes_array[1].set_title('Right camera image', fontsize=12)\n",
    "    axes_array[1].imshow(gray_right, cmap=plt.cm.gray)\n",
    "    axes_array[1].tick_params(bottom='off', labelbottom='off', left='off', labelleft='off')\n",
    "\n",
    "    axes_array[2].set_title('NCC for column marked by red line', fontsize=12)\n",
    "    axes_array[2].imshow(corr_slice)\n",
    "    axes_array[2].tick_params(bottom='off', labelbottom='off', left='off', labelleft='off')\n",
    "\n",
    "    plt.show(block=True)"
   ]
  },
  {
   "cell_type": "markdown",
   "metadata": {},
   "source": [
    "---\n",
    "\n",
    "This function visualizes the reconstructed point cloud. No edits required."
   ]
  },
  {
   "cell_type": "code",
   "execution_count": null,
   "metadata": {
    "collapsed": true
   },
   "outputs": [],
   "source": [
    "def plot_point_cloud(gray_left, gray_right, points3d):\n",
    "    \"\"\" Visualize the re-constructed point-cloud\n",
    "\n",
    "        Args:\n",
    "            gray_left (np.array of shape (num_rows, num_cols)): left grayscale image\n",
    "            gray_right (np.array of shape (num_rows, num_cols)): right grayscale image\n",
    "            points3d ((np.array of shape (num_rows - 2*mask_halfwidth, num_cols - 2*mask_halfwidth, 3)): \n",
    "                3D World co-ordinates for each pixel in the left image (excluding the boundary pixels \n",
    "                which are ignored during NCC calculation).\n",
    "        \"\"\"\n",
    "\n",
    "    plt.close('all')\n",
    "    plt.ion()\n",
    "    f, axes_array = plt.subplots(1, 2, figsize=(18, 16))\n",
    "    axes_array[0].set_title('Left camera image', fontsize=12)\n",
    "    axes_array[0].imshow(gray_left, cmap=plt.cm.gray)\n",
    "    axes_array[0].tick_params(bottom='off', labelbottom='off', left='off', labelleft='off')\n",
    "    axes_array[1].set_title('Right camera image', fontsize=12)\n",
    "    axes_array[1].imshow(gray_right, cmap=plt.cm.gray)\n",
    "    axes_array[1].tick_params(bottom='off', labelbottom='off', left='off', labelleft='off')\n",
    "    plt.show()\n",
    "    \n",
    "    margin_y = gray_left.shape[0] - points3d.shape[0]\n",
    "    margin_x = gray_left.shape[1] - points3d.shape[1]\n",
    "\n",
    "    points3d = points3d[5:-5,5:-5,:]\n",
    "    colors = []\n",
    "    for r in range(points3d.shape[0]):\n",
    "        for c in range(points3d.shape[1]):\n",
    "            col = gray_left[r+margin_y,c+margin_x]\n",
    "            colors.append('rgb('+str(col)+','+str(col)+','+str(col)+')')\n",
    "    data = [go.Scatter3d(\n",
    "        x=-1*points3d[:,:,0].flatten(),\n",
    "        y=-1*points3d[:,:,2].flatten(),\n",
    "        z=-1*points3d[:,:,1].flatten(),\n",
    "        mode='markers',\n",
    "        marker=dict(\n",
    "            size=1,\n",
    "            color=colors,\n",
    "            line=dict(width=0) \n",
    "        )\n",
    "    )]\n",
    "    layout = go.Layout(\n",
    "        scene=dict(camera=dict(\n",
    "                    up=dict(x=0, y=0, z=1),\n",
    "                    center=dict(x=0, y=0, z=0),\n",
    "                    eye=dict(x=0.1, y=1, z=0.1)\n",
    "                )\n",
    "        ),\n",
    "        margin=dict(\n",
    "            l=0,\n",
    "            r=0,\n",
    "            b=0,\n",
    "            t=0\n",
    "        )\n",
    "    )\n",
    "    plotly.offline.init_notebook_mode(connected=True)\n",
    "    fig = go.Figure(data=data, layout=layout)\n",
    "    plotly.offline.iplot(fig, filename='stereo_visualization.html')"
   ]
  },
  {
   "cell_type": "markdown",
   "metadata": {},
   "source": [
    "---\n",
    "### Part 2.1 - Triangulation\n",
    "\n",
    "**TODO:** Implement the following function to triangulate (determine 3D world coordinates) a set of points given their projected coordinates in two images"
   ]
  },
  {
   "cell_type": "code",
   "execution_count": null,
   "metadata": {
    "collapsed": true
   },
   "outputs": [],
   "source": [
    "def triangulate(x_left, x_right, y, m_width, m_height, camera_parameters):\n",
    "    \"\"\"Triangulate (determine 3D world coordinates) a set of points given their projected coordinates in two images.\n",
    "\n",
    "    Args:\n",
    "        x_left (np.array of shape (num_points,)): Projected x-coordinates of the 3D-points in the left image\n",
    "        x_right (np.array of shape (num_points,)): Projected x-coordinates of the 3D-points in the right image\n",
    "        y (np.array of shape (num_points,)): Projected y-coordinates of the 3D-points (same for both images)\n",
    "        m_width (int): width of the image\n",
    "        m_height (int): height of the image\n",
    "        camera_parameters (dict): Dict containing camera parameters\n",
    "    Returns:\n",
    "        points (np.array of shape (num_points, 3): triangulated 3D co-ordinates of the input points in world \n",
    "                                                   coordinates\n",
    "    \"\"\"\n",
    "    \n",
    "    baseline = camera_parameters['baseline']\n",
    "    focal_length = camera_parameters['focal_length']\n",
    "    aperture_x = camera_parameters['aperture_x']\n",
    "    aperture_y = camera_parameters['aperture_y']\n",
    "\n",
    "    points = np.zeros((x_left.shape[0], 3))\n",
    "    \n",
    "    # TODO: Perform triangulation\n",
    "    #\n",
    "    # ...\n",
    "    #\n",
    "\n",
    "    return points"
   ]
  },
  {
   "cell_type": "markdown",
   "metadata": {},
   "source": [
    "### Test triangulation\n",
    "\n",
    "Test on a small example"
   ]
  },
  {
   "cell_type": "code",
   "execution_count": null,
   "metadata": {
    "collapsed": true
   },
   "outputs": [],
   "source": [
    "m_width = 640       # width of image\n",
    "m_height = 480      # height image\n",
    "x_left = np.array([640, 640 / 2 + 1, 314])  # x-coordinates of points in the left image\n",
    "x_right = np.array([0, 640 / 2 - 1, 52])    # x-coordinates of points in the right image\n",
    "y = np.array([480 / 2, 480 / 2, 163])       # y-coordinates of points (same for both images)\n",
    "\n",
    "points_sol = np.array([[0.500, 0.000, 0.972], [0.500, 0.000, 311.193], [-0.023, -0.261, 2.376]])\n",
    "\n",
    "points = triangulate(x_left, x_right, y, m_width, m_height, camera_parameters)\n",
    "\n",
    "if np.allclose(points, points_sol, rtol=1e-2):\n",
    "    print(\"Test of triangulate() successful :)\\n\\n\")\n",
    "else:\n",
    "    print(\"ERROR!!! Test of triangulate() failed :(\\n\\n\")\n",
    "\n",
    "print(\"Here are the triangulated points\\n\")    \n",
    "print(points)"
   ]
  },
  {
   "cell_type": "markdown",
   "metadata": {},
   "source": [
    "---\n",
    "\n",
    "Expected Result:\n",
    "```python\n",
    "[[  5.00000000e-01   0.00000000e+00   9.72477064e-01]\n",
    " [  5.00000000e-01   0.00000000e+00   3.11192661e+02]\n",
    " [ -2.29007634e-02  -2.61330518e-01   2.37551649e+00]]\n",
    "```\n"
   ]
  },
  {
   "cell_type": "markdown",
   "metadata": {},
   "source": [
    "---\n",
    "\n",
    "### Part 2.2 - Normalized Cross-Correlation\n",
    "\n",
    "**TODO** Complete the following function to compute normalized cross-correlation (NCC) between patches at the same row in two images."
   ]
  },
  {
   "cell_type": "code",
   "execution_count": null,
   "metadata": {
    "collapsed": true
   },
   "outputs": [],
   "source": [
    "def compute_ncc(gray_left, gray_right, mask_halfwidth):\n",
    "    \"\"\"Calculate normalized cross-correlation (NCC) between patches at the same row in two images. The regions \n",
    "    near the boundary of the image, where the patches go out of image, are ignored. That is, for an input image, \n",
    "    \"mask_halfwidth\" number of rows and columns will be ignored on each side.\n",
    "\n",
    "    For input images of size (num_rows, num_cols), the output will be an array of size\n",
    "    (num_rows - 2*mask_halfwidth, num_cols - 2*mask_halfwidth, num_cols - 2*mask_halfwidth). The value \n",
    "    output[r, c_l, c_r] denotes the NCC between the patch centered at (r + mask_halfwidth, c_l + mask_halfwidth) \n",
    "    in the left image and the patch centered at  (r + mask_halfwidth, c_r + mask_halfwidth) at the right image.\n",
    "\n",
    "    Args:\n",
    "        gray_left (np.array of shape (num_rows, num_cols)): left grayscale image\n",
    "        gray_right (np.array of shape (num_rows, num_cols)): right grayscale image\n",
    "        mask_halfwidth (int): Half-size of the square neighbourhood used for computing NCC. Thus a patch of size\n",
    "                              (2*mask_halfwidth+1, 2*mask_halfwidth+1) will be used.\n",
    "                              \n",
    "    Returns:\n",
    "        corr (np.array of shape (num_rows - 2*mask_halfwidth, num_cols - 2*mask_halfwidth, \n",
    "        num_cols - 2*mask_halfwidth)): Array containing the normalized cross-correlation (NCC) between patches \n",
    "                                       in the two images. The value corr[r, c_l, c_r] denotes the NCC between \n",
    "                                       the patch centered at (r + mask_halfwidth, c_l + mask_halfwidth) in the \n",
    "                                       left image and the patch centered at  \n",
    "                                       (r + mask_halfwidth, c_r + mask_halfwidth) at the right image.\n",
    "    \"\"\"\n",
    "\n",
    "    m_height, m_width = gray_left.shape\n",
    "\n",
    "    corr = np.zeros((m_height - 2*mask_halfwidth, m_width - 2*mask_halfwidth, m_width - 2*mask_halfwidth))\n",
    "\n",
    "    # Loop over the rows. Ignore the boundary rows, where the patches go out of image\n",
    "    for y in range(mask_halfwidth, m_height - mask_halfwidth):\n",
    "        # Loop over patches in left image\n",
    "        for x_l in range(mask_halfwidth, m_width - mask_halfwidth):\n",
    "            # TODO extract the patch from the left image and normalize it\n",
    "            #\n",
    "            # ...\n",
    "            #\n",
    "\n",
    "            # Loop over patches in the right image in the same scan line, i.e. same y coordinate\n",
    "            for x_r in range(mask_halfwidth, m_width - mask_halfwidth):\n",
    "                # TODO extract the patch from the right image and normalize it\n",
    "                #\n",
    "                # ...\n",
    "                #\n",
    "\n",
    "                # TODO Compute correlation\n",
    "                #\n",
    "                # ...\n",
    "                #\n",
    "                pass\n",
    "\n",
    "    return corr\n"
   ]
  },
  {
   "cell_type": "markdown",
   "metadata": {},
   "source": [
    "### Test NCC\n",
    "\n",
    "Test first on a dummy patch"
   ]
  },
  {
   "cell_type": "code",
   "execution_count": null,
   "metadata": {
    "collapsed": true
   },
   "outputs": [],
   "source": [
    "patch = np.array([[0, 0, 0, 0],\n",
    "                  [0, 1, -1, 0],\n",
    "                  [0, 0, 0, 0]])\n",
    "\n",
    "corr_sol = np.array([[[1.0, -0.5],\n",
    "                      [-0.5, 1.0]]])\n",
    "\n",
    "corr = compute_ncc(patch, patch, 1)\n",
    "\n",
    "if np.allclose(corr, corr_sol, rtol=1e-2):\n",
    "    print(\"Test of compute_ncc() successful :)\\n\\n\")\n",
    "else:\n",
    "    print(\"ERROR!!! Test of compute_ncc() failed :(\\n\\n\")\n",
    "\n",
    "print('Here is the computed NCC\\n')\n",
    "print(corr)"
   ]
  },
  {
   "cell_type": "markdown",
   "metadata": {},
   "source": [
    "---\n",
    "\n",
    "Expected Result:\n",
    "```python\n",
    "[[[1.0, -0.5],\n",
    "  [-0.5, 1.0]]]\n",
    "```\n"
   ]
  },
  {
   "cell_type": "markdown",
   "metadata": {},
   "source": [
    "Now test your implementation on an actual image"
   ]
  },
  {
   "cell_type": "code",
   "execution_count": null,
   "metadata": {
    "collapsed": true
   },
   "outputs": [],
   "source": [
    "# Compute the NCC only on a crop to save time\n",
    "left_crop = left_tsukuba[140:240, 125:225]\n",
    "right_crop = right_tsukuba[140:240, 125:225]\n",
    "print(\"Computing NCC on a real image\")\n",
    "t0 = time.time()\n",
    "corr = compute_ncc(left_crop, right_crop, 5)\n",
    "t1 = time.time()\n",
    "print(\"Computation took {:.2f} seconds,\".format(t1 - t0))"
   ]
  },
  {
   "cell_type": "markdown",
   "metadata": {},
   "source": [
    "Visualize the computed NCC for a particular column"
   ]
  },
  {
   "cell_type": "code",
   "execution_count": null,
   "metadata": {
    "collapsed": true
   },
   "outputs": [],
   "source": [
    "# Plot the computed NCC for a particular column in the left image\n",
    "column_index = 40\n",
    "plot_correlation(left_crop, right_crop, corr, column_index)"
   ]
  },
  {
   "cell_type": "markdown",
   "metadata": {},
   "source": [
    "---\n",
    "### Part 2.3 - Normalized Cross-Correlation Fast\n",
    "\n",
    "Run the two approaches given below to compute the mean over the last dimension of a 3-dimensional NumPy array. Observe the difference in computation times."
   ]
  },
  {
   "cell_type": "code",
   "execution_count": null,
   "metadata": {
    "collapsed": true
   },
   "outputs": [],
   "source": [
    "# Initialize a random numpy array\n",
    "a = np.random.rand(1000, 1000, 5)\n",
    "\n",
    "# Approach 1: Naive for loop\n",
    "t0 = time.time()\n",
    "a_mean_naive = np.zeros((1000, 1000))\n",
    "for i in range(a.shape[0]):\n",
    "    for j in range(a.shape[1]):\n",
    "        a_mean_naive[i, j] = a[i, j, :].mean()\n",
    "            \n",
    "t1 = time.time()\n",
    "print('Computation took {:.3f} seconds using for loops'.format(t1 - t0))\n",
    "\n",
    "# Approach 2: Numpy operations\n",
    "t0 = time.time()\n",
    "a_mean_numpy = a.mean(axis=2)\n",
    "t1 = time.time()\n",
    "print('Computation took {:.3f} seconds using numpy operation'.format(t1 - t0))"
   ]
  },
  {
   "cell_type": "markdown",
   "metadata": {},
   "source": [
    "**TODO:** Now implement a fast version to compute NCC using NumPy operations\n"
   ]
  },
  {
   "cell_type": "code",
   "execution_count": null,
   "metadata": {
    "collapsed": true
   },
   "outputs": [],
   "source": [
    "def compute_ncc_fast(gray_left, gray_right, mask_halfwidth):\n",
    "    \"\"\" Faster version of compute_ncc().\n",
    "    Args:\n",
    "        gray_left (np.array of shape (num_rows, num_cols)): left grayscale image\n",
    "        gray_right (np.array of shape (num_rows, num_cols)): right grayscale image\n",
    "        mask_halfwidth (int): Half-size of the square neighbourhood used for computing NCC. Thus a patch of size\n",
    "                              (2*mask_halfwidth+1, 2*mask_halfwidth+1) will be used.\n",
    "                              \n",
    "    Returns:\n",
    "        corr (np.array of shape (num_rows - 2*mask_halfwidth, num_cols - 2*mask_halfwidth, \n",
    "        num_cols - 2*mask_halfwidth)): Array containing the normalized cross-correlation (NCC) between patches \n",
    "                                       in the two images. The value corr[r, c_l, c_r] denotes the NCC between \n",
    "                                       the patch centered at (r + mask_halfwidth, c_l + mask_halfwidth) in the \n",
    "                                       left image and the patch centered at  \n",
    "                                       (r + mask_halfwidth, c_r + mask_halfwidth) at the right image.\n",
    "    \"\"\"\n",
    "\n",
    "    m_height, m_width = gray_left.shape\n",
    "\n",
    "    # Hint: Construct a tensor of patches, where patches_left[y, x, :] contains the patch in the left image\n",
    "    # centered at (x, y) in a vectorized form. This allows you to compute the mean/variance for each patch over\n",
    "    # the full image using standard numpy operations\n",
    "    \n",
    "    # The numpy function np.roll (https://docs.scipy.org/doc/numpy/reference/generated/numpy.roll.html) could be \n",
    "    # useful here\n",
    "    patches_left = np.zeros((m_height, m_width, (2*mask_halfwidth + 1)**2))\n",
    "    patches_right = np.zeros((m_height, m_width, (2*mask_halfwidth + 1)**2))\n",
    "\n",
    "    # TODO: Construct patches_left and patches_right\n",
    "    #\n",
    "    # ...\n",
    "    #\n",
    "    \n",
    "    # TODO: normalize each patch\n",
    "    #\n",
    "    # ...\n",
    "    #\n",
    "    \n",
    "    # TODO: Compute correlation.\n",
    "    # Hint: This can be computed as a matrix multiplication. Check np.matmul and np.transpose\n",
    "    #\n",
    "    # ...\n",
    "    #\n",
    "    \n",
    "    corr = np.zeros((m_height - 2 * mask_halfwidth, m_width - 2 * mask_halfwidth, m_width - 2 * mask_halfwidth))  # replace this\n",
    "    return corr\n"
   ]
  },
  {
   "cell_type": "markdown",
   "metadata": {},
   "source": [
    "Test on a dummy patch"
   ]
  },
  {
   "cell_type": "code",
   "execution_count": null,
   "metadata": {
    "collapsed": true
   },
   "outputs": [],
   "source": [
    "patch = np.array([[0, 0, 0, 0],\n",
    "                  [0, 1, -1, 0],\n",
    "                  [0, 0, 0, 0]])\n",
    "\n",
    "corr_sol = np.array([[[1.0, -0.5],\n",
    "                      [-0.5, 1.0]]])\n",
    "\n",
    "corr = compute_ncc_fast(patch, patch, 1)\n",
    "\n",
    "if np.allclose(corr, corr_sol, rtol=1e-2):\n",
    "    print(\"Test of compute_correlation_fast() successful :)\\n\\n\")\n",
    "else:\n",
    "    print(\"ERROR!!! Test of compute_correlation_fast() failed :(\\n\\n\")\n",
    "\n",
    "print('Here is the computed NCC\\n')\n",
    "print(corr)"
   ]
  },
  {
   "cell_type": "markdown",
   "metadata": {},
   "source": [
    "Test on real image"
   ]
  },
  {
   "cell_type": "code",
   "execution_count": null,
   "metadata": {
    "collapsed": true
   },
   "outputs": [],
   "source": [
    "# Compute the NCC only on a crop to save time\n",
    "left_crop = left_tsukuba[140:240, 125:225]\n",
    "right_crop = right_tsukuba[140:240, 125:225]\n",
    "print(\"Computing NCC on a real image\")\n",
    "t0 = time.time()\n",
    "corr = compute_ncc_fast(left_crop, right_crop, 5)\n",
    "t1 = time.time()\n",
    "print(\"Computation took {:.2f} seconds with the fast version\".format(t1 - t0))"
   ]
  },
  {
   "cell_type": "markdown",
   "metadata": {},
   "source": [
    "Visualize NCC"
   ]
  },
  {
   "cell_type": "code",
   "execution_count": null,
   "metadata": {
    "collapsed": true
   },
   "outputs": [],
   "source": [
    "# Plot the computed NCC for a particular column in the left image\n",
    "column_index = 40\n",
    "plot_correlation(left_crop, right_crop, corr, column_index)"
   ]
  },
  {
   "cell_type": "markdown",
   "metadata": {
    "collapsed": true
   },
   "source": [
    "---\n",
    "### Stereo Reconstruction\n",
    "\n",
    "**TODO:** Compute point correspondences for two images."
   ]
  },
  {
   "cell_type": "code",
   "execution_count": null,
   "metadata": {
    "collapsed": true
   },
   "outputs": [],
   "source": [
    "def define_points_3d(gray_left, gray_right, mask_halfwidth, camera_parameters):\n",
    "    \"\"\"Compute point correspondences for two images and perform 3D reconstruction.\n",
    "\n",
    "    Args:\n",
    "        gray_left (np.array of shape (num_rows, num_cols)): left grayscale image\n",
    "        gray_right (np.array of shape (num_rows, num_cols)): right grayscale image\n",
    "        mask_halfwidth (int): Half-size of the square neighbourhood used for computing NCC. Thus a patch of size\n",
    "                              (2*mask_halfwidth+1, 2*mask_halfwidth+1) will be used.\n",
    "        camera_parameters (dict): Dict containing camera parameters\n",
    "    Returns:\n",
    "        points3d (np.array of shape (num_rows - 2*mask_halfwidth, num_cols - 2*mask_halfwidth, 3):\n",
    "            Array containing the re-constructed 3D world coordinates for each pixel in the left image (excluding the\n",
    "            boundary regions, which are ignored during NCC computation).\n",
    "    \"\"\"\n",
    "\n",
    "    m_height, m_width = gray_left.shape\n",
    "\n",
    "    new_width = m_width - 2 * mask_halfwidth\n",
    "    new_height = m_height - 2 * mask_halfwidth\n",
    "\n",
    "    # TODO: Compute normalized cross correlation and find corresponding projected x-coordinates in left and right image\n",
    "    #\n",
    "    # ...\n",
    "    #\n",
    "    \n",
    "    # TODO: Triangulate the points to get 3D world coordinates\n",
    "    #\n",
    "    # ...\n",
    "    #\n",
    "\n",
    "    points3d = np.zeros((new_height, new_width, 3))  # replace this\n",
    "    return points3d\n"
   ]
  },
  {
   "cell_type": "markdown",
   "metadata": {},
   "source": [
    "Test stereo reconstruction"
   ]
  },
  {
   "cell_type": "code",
   "execution_count": null,
   "metadata": {
    "collapsed": true
   },
   "outputs": [],
   "source": [
    "t0 = time.time()\n",
    "points3d_tsukuba = define_points_3d(left_tsukuba, right_tsukuba, 5, camera_parameters)\n",
    "t1 = time.time()\n",
    "print(\"Computation took {:.2f} seconds,\".format(t1 - t0))"
   ]
  },
  {
   "cell_type": "markdown",
   "metadata": {},
   "source": [
    "---\n",
    "\n",
    "During execution of the above code, the python interpreter might generate a warning that zero divisons are occurring. Can you explain why?"
   ]
  },
  {
   "cell_type": "markdown",
   "metadata": {},
   "source": [
    "Answer here:"
   ]
  },
  {
   "cell_type": "markdown",
   "metadata": {},
   "source": [
    "---\n",
    "\n",
    "### Visualization of 3D point cloud"
   ]
  },
  {
   "cell_type": "code",
   "execution_count": null,
   "metadata": {
    "collapsed": true
   },
   "outputs": [],
   "source": [
    "plot_point_cloud(left_tsukuba, right_tsukuba, points3d_tsukuba)"
   ]
  },
  {
   "cell_type": "markdown",
   "metadata": {},
   "source": [
    "Now test on the cube image pairs"
   ]
  },
  {
   "cell_type": "code",
   "execution_count": null,
   "metadata": {
    "collapsed": true
   },
   "outputs": [],
   "source": [
    "t0 = time.time()\n",
    "points3d_cube = define_points_3d(left_cube, right_cube, 5, camera_parameters)\n",
    "t1 = time.time()\n",
    "print(\"Computation took {:.2f} seconds,\".format(t1 - t0))"
   ]
  },
  {
   "cell_type": "code",
   "execution_count": null,
   "metadata": {
    "collapsed": true
   },
   "outputs": [],
   "source": [
    "plot_point_cloud(left_cube, right_cube, points3d_cube)"
   ]
  }
 ],
 "metadata": {
  "anaconda-cloud": {},
  "kernelspec": {
   "display_name": "Python 3",
   "language": "python",
   "name": "python3"
  },
  "language_info": {
   "codemirror_mode": {
    "name": "ipython",
    "version": 3
   },
   "file_extension": ".py",
   "mimetype": "text/x-python",
   "name": "python",
   "nbconvert_exporter": "python",
   "pygments_lexer": "ipython3",
   "version": "3.7.9"
  }
 },
 "nbformat": 4,
 "nbformat_minor": 2
}
